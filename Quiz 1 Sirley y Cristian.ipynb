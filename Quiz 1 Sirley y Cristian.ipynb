{
 "cells": [
  {
   "cell_type": "code",
   "execution_count": 2,
   "id": "f1eca05d",
   "metadata": {},
   "outputs": [],
   "source": [
    "import numpy as np \n",
    "import pandas as pd\n",
    "from sklearn.metrics import accuracy_score , make_scorer\n",
    "from sklearn.model_selection import GridSearchCV, train_test_split\n",
    "from sklearn import preprocessing \n",
    "from sklearn.linear_model import LogisticRegression\n",
    "import warnings \n",
    "warnings.filterwarnings(\"ignore\")\n"
   ]
  },
  {
   "cell_type": "code",
   "execution_count": 3,
   "id": "c777fde8",
   "metadata": {},
   "outputs": [],
   "source": [
    "path = \"C:/Users/PC/Downloads/\""
   ]
  },
  {
   "cell_type": "markdown",
   "id": "b6b867ec",
   "metadata": {},
   "source": [
    "## Carga "
   ]
  },
  {
   "cell_type": "code",
   "execution_count": 4,
   "id": "1ec7db0c",
   "metadata": {},
   "outputs": [],
   "source": [
    "dataset = pd.read_csv(path + \"iris_dataset.csv\",header = 0,sep=\";\",decimal=\",\") \n",
    "prueba = pd.read_csv(path + \"iris_prueba.csv\",header = 0,sep=\";\",decimal=\",\")"
   ]
  },
  {
   "cell_type": "code",
   "execution_count": 5,
   "id": "de695181",
   "metadata": {},
   "outputs": [
    {
     "data": {
      "text/html": [
       "<div>\n",
       "<style scoped>\n",
       "    .dataframe tbody tr th:only-of-type {\n",
       "        vertical-align: middle;\n",
       "    }\n",
       "\n",
       "    .dataframe tbody tr th {\n",
       "        vertical-align: top;\n",
       "    }\n",
       "\n",
       "    .dataframe thead th {\n",
       "        text-align: right;\n",
       "    }\n",
       "</style>\n",
       "<table border=\"1\" class=\"dataframe\">\n",
       "  <thead>\n",
       "    <tr style=\"text-align: right;\">\n",
       "      <th></th>\n",
       "      <th>X1</th>\n",
       "      <th>X2</th>\n",
       "      <th>X3</th>\n",
       "      <th>X4</th>\n",
       "      <th>y</th>\n",
       "    </tr>\n",
       "  </thead>\n",
       "  <tbody>\n",
       "    <tr>\n",
       "      <th>0</th>\n",
       "      <td>6.7</td>\n",
       "      <td>3.1</td>\n",
       "      <td>4.4</td>\n",
       "      <td>1.4</td>\n",
       "      <td>1</td>\n",
       "    </tr>\n",
       "    <tr>\n",
       "      <th>1</th>\n",
       "      <td>6.1</td>\n",
       "      <td>2.8</td>\n",
       "      <td>4.0</td>\n",
       "      <td>1.3</td>\n",
       "      <td>1</td>\n",
       "    </tr>\n",
       "    <tr>\n",
       "      <th>2</th>\n",
       "      <td>5.4</td>\n",
       "      <td>3.9</td>\n",
       "      <td>1.3</td>\n",
       "      <td>0.4</td>\n",
       "      <td>0</td>\n",
       "    </tr>\n",
       "    <tr>\n",
       "      <th>3</th>\n",
       "      <td>5.0</td>\n",
       "      <td>3.3</td>\n",
       "      <td>1.4</td>\n",
       "      <td>0.2</td>\n",
       "      <td>0</td>\n",
       "    </tr>\n",
       "    <tr>\n",
       "      <th>4</th>\n",
       "      <td>4.8</td>\n",
       "      <td>3.1</td>\n",
       "      <td>1.6</td>\n",
       "      <td>0.2</td>\n",
       "      <td>0</td>\n",
       "    </tr>\n",
       "    <tr>\n",
       "      <th>...</th>\n",
       "      <td>...</td>\n",
       "      <td>...</td>\n",
       "      <td>...</td>\n",
       "      <td>...</td>\n",
       "      <td>...</td>\n",
       "    </tr>\n",
       "    <tr>\n",
       "      <th>115</th>\n",
       "      <td>4.9</td>\n",
       "      <td>2.4</td>\n",
       "      <td>3.3</td>\n",
       "      <td>1.0</td>\n",
       "      <td>1</td>\n",
       "    </tr>\n",
       "    <tr>\n",
       "      <th>116</th>\n",
       "      <td>4.4</td>\n",
       "      <td>3.2</td>\n",
       "      <td>1.3</td>\n",
       "      <td>0.2</td>\n",
       "      <td>0</td>\n",
       "    </tr>\n",
       "    <tr>\n",
       "      <th>117</th>\n",
       "      <td>4.4</td>\n",
       "      <td>3.0</td>\n",
       "      <td>1.3</td>\n",
       "      <td>0.2</td>\n",
       "      <td>0</td>\n",
       "    </tr>\n",
       "    <tr>\n",
       "      <th>118</th>\n",
       "      <td>7.1</td>\n",
       "      <td>3.0</td>\n",
       "      <td>5.9</td>\n",
       "      <td>2.1</td>\n",
       "      <td>2</td>\n",
       "    </tr>\n",
       "    <tr>\n",
       "      <th>119</th>\n",
       "      <td>6.8</td>\n",
       "      <td>3.2</td>\n",
       "      <td>5.9</td>\n",
       "      <td>2.3</td>\n",
       "      <td>2</td>\n",
       "    </tr>\n",
       "  </tbody>\n",
       "</table>\n",
       "<p>120 rows × 5 columns</p>\n",
       "</div>"
      ],
      "text/plain": [
       "      X1   X2   X3   X4  y\n",
       "0    6.7  3.1  4.4  1.4  1\n",
       "1    6.1  2.8  4.0  1.3  1\n",
       "2    5.4  3.9  1.3  0.4  0\n",
       "3    5.0  3.3  1.4  0.2  0\n",
       "4    4.8  3.1  1.6  0.2  0\n",
       "..   ...  ...  ...  ... ..\n",
       "115  4.9  2.4  3.3  1.0  1\n",
       "116  4.4  3.2  1.3  0.2  0\n",
       "117  4.4  3.0  1.3  0.2  0\n",
       "118  7.1  3.0  5.9  2.1  2\n",
       "119  6.8  3.2  5.9  2.3  2\n",
       "\n",
       "[120 rows x 5 columns]"
      ]
     },
     "execution_count": 5,
     "metadata": {},
     "output_type": "execute_result"
    }
   ],
   "source": [
    "dataset"
   ]
  },
  {
   "cell_type": "code",
   "execution_count": 6,
   "id": "c32114ec",
   "metadata": {},
   "outputs": [],
   "source": [
    "covariables = [x for x in dataset.columns if x not in [\"y\"] ]\n",
    "X= dataset.get(covariables)\n",
    "y = dataset[\"y\"]\n",
    "\n",
    "X_nuevo = prueba.get(covariables)\n",
    "y_nuevo = prueba[\"y\"]"
   ]
  },
  {
   "cell_type": "markdown",
   "id": "64e041c7",
   "metadata": {},
   "source": [
    "## Entrenar el modelo"
   ]
  },
  {
   "cell_type": "markdown",
   "id": "bf04d4c3",
   "metadata": {},
   "source": [
    "### Predecir Test"
   ]
  },
  {
   "cell_type": "code",
   "execution_count": 7,
   "id": "d3a91287",
   "metadata": {},
   "outputs": [
    {
     "data": {
      "text/html": [
       "<style>#sk-container-id-1 {color: black;}#sk-container-id-1 pre{padding: 0;}#sk-container-id-1 div.sk-toggleable {background-color: white;}#sk-container-id-1 label.sk-toggleable__label {cursor: pointer;display: block;width: 100%;margin-bottom: 0;padding: 0.3em;box-sizing: border-box;text-align: center;}#sk-container-id-1 label.sk-toggleable__label-arrow:before {content: \"▸\";float: left;margin-right: 0.25em;color: #696969;}#sk-container-id-1 label.sk-toggleable__label-arrow:hover:before {color: black;}#sk-container-id-1 div.sk-estimator:hover label.sk-toggleable__label-arrow:before {color: black;}#sk-container-id-1 div.sk-toggleable__content {max-height: 0;max-width: 0;overflow: hidden;text-align: left;background-color: #f0f8ff;}#sk-container-id-1 div.sk-toggleable__content pre {margin: 0.2em;color: black;border-radius: 0.25em;background-color: #f0f8ff;}#sk-container-id-1 input.sk-toggleable__control:checked~div.sk-toggleable__content {max-height: 200px;max-width: 100%;overflow: auto;}#sk-container-id-1 input.sk-toggleable__control:checked~label.sk-toggleable__label-arrow:before {content: \"▾\";}#sk-container-id-1 div.sk-estimator input.sk-toggleable__control:checked~label.sk-toggleable__label {background-color: #d4ebff;}#sk-container-id-1 div.sk-label input.sk-toggleable__control:checked~label.sk-toggleable__label {background-color: #d4ebff;}#sk-container-id-1 input.sk-hidden--visually {border: 0;clip: rect(1px 1px 1px 1px);clip: rect(1px, 1px, 1px, 1px);height: 1px;margin: -1px;overflow: hidden;padding: 0;position: absolute;width: 1px;}#sk-container-id-1 div.sk-estimator {font-family: monospace;background-color: #f0f8ff;border: 1px dotted black;border-radius: 0.25em;box-sizing: border-box;margin-bottom: 0.5em;}#sk-container-id-1 div.sk-estimator:hover {background-color: #d4ebff;}#sk-container-id-1 div.sk-parallel-item::after {content: \"\";width: 100%;border-bottom: 1px solid gray;flex-grow: 1;}#sk-container-id-1 div.sk-label:hover label.sk-toggleable__label {background-color: #d4ebff;}#sk-container-id-1 div.sk-serial::before {content: \"\";position: absolute;border-left: 1px solid gray;box-sizing: border-box;top: 0;bottom: 0;left: 50%;z-index: 0;}#sk-container-id-1 div.sk-serial {display: flex;flex-direction: column;align-items: center;background-color: white;padding-right: 0.2em;padding-left: 0.2em;position: relative;}#sk-container-id-1 div.sk-item {position: relative;z-index: 1;}#sk-container-id-1 div.sk-parallel {display: flex;align-items: stretch;justify-content: center;background-color: white;position: relative;}#sk-container-id-1 div.sk-item::before, #sk-container-id-1 div.sk-parallel-item::before {content: \"\";position: absolute;border-left: 1px solid gray;box-sizing: border-box;top: 0;bottom: 0;left: 50%;z-index: -1;}#sk-container-id-1 div.sk-parallel-item {display: flex;flex-direction: column;z-index: 1;position: relative;background-color: white;}#sk-container-id-1 div.sk-parallel-item:first-child::after {align-self: flex-end;width: 50%;}#sk-container-id-1 div.sk-parallel-item:last-child::after {align-self: flex-start;width: 50%;}#sk-container-id-1 div.sk-parallel-item:only-child::after {width: 0;}#sk-container-id-1 div.sk-dashed-wrapped {border: 1px dashed gray;margin: 0 0.4em 0.5em 0.4em;box-sizing: border-box;padding-bottom: 0.4em;background-color: white;}#sk-container-id-1 div.sk-label label {font-family: monospace;font-weight: bold;display: inline-block;line-height: 1.2em;}#sk-container-id-1 div.sk-label-container {text-align: center;}#sk-container-id-1 div.sk-container {/* jupyter's `normalize.less` sets `[hidden] { display: none; }` but bootstrap.min.css set `[hidden] { display: none !important; }` so we also need the `!important` here to be able to override the default hidden behavior on the sphinx rendered scikit-learn.org. See: https://github.com/scikit-learn/scikit-learn/issues/21755 */display: inline-block !important;position: relative;}#sk-container-id-1 div.sk-text-repr-fallback {display: none;}</style><div id=\"sk-container-id-1\" class=\"sk-top-container\"><div class=\"sk-text-repr-fallback\"><pre>GridSearchCV(cv=5, estimator=LogisticRegression(random_state=123), n_jobs=-1,\n",
       "             param_grid={&#x27;C&#x27;: array([0.1, 0.2, 0.3, 0.4, 0.5, 0.6, 0.7, 0.8, 0.9, 1. , 1.1, 1.2, 1.3,\n",
       "       1.4, 1.5, 1.6, 1.7, 1.8, 1.9, 2. , 2.1, 2.2, 2.3, 2.4, 2.5, 2.6,\n",
       "       2.7, 2.8, 2.9, 3. , 3.1, 3.2, 3.3, 3.4, 3.5, 3.6, 3.7, 3.8, 3.9,\n",
       "       4. , 4.1, 4.2, 4.3, 4.4, 4.5, 4.6, 4.7, 4.8, 4.9, 5. ])},\n",
       "             scoring=make_scorer(accuracy_score))</pre><b>In a Jupyter environment, please rerun this cell to show the HTML representation or trust the notebook. <br />On GitHub, the HTML representation is unable to render, please try loading this page with nbviewer.org.</b></div><div class=\"sk-container\" hidden><div class=\"sk-item sk-dashed-wrapped\"><div class=\"sk-label-container\"><div class=\"sk-label sk-toggleable\"><input class=\"sk-toggleable__control sk-hidden--visually\" id=\"sk-estimator-id-1\" type=\"checkbox\" ><label for=\"sk-estimator-id-1\" class=\"sk-toggleable__label sk-toggleable__label-arrow\">GridSearchCV</label><div class=\"sk-toggleable__content\"><pre>GridSearchCV(cv=5, estimator=LogisticRegression(random_state=123), n_jobs=-1,\n",
       "             param_grid={&#x27;C&#x27;: array([0.1, 0.2, 0.3, 0.4, 0.5, 0.6, 0.7, 0.8, 0.9, 1. , 1.1, 1.2, 1.3,\n",
       "       1.4, 1.5, 1.6, 1.7, 1.8, 1.9, 2. , 2.1, 2.2, 2.3, 2.4, 2.5, 2.6,\n",
       "       2.7, 2.8, 2.9, 3. , 3.1, 3.2, 3.3, 3.4, 3.5, 3.6, 3.7, 3.8, 3.9,\n",
       "       4. , 4.1, 4.2, 4.3, 4.4, 4.5, 4.6, 4.7, 4.8, 4.9, 5. ])},\n",
       "             scoring=make_scorer(accuracy_score))</pre></div></div></div><div class=\"sk-parallel\"><div class=\"sk-parallel-item\"><div class=\"sk-item\"><div class=\"sk-label-container\"><div class=\"sk-label sk-toggleable\"><input class=\"sk-toggleable__control sk-hidden--visually\" id=\"sk-estimator-id-2\" type=\"checkbox\" ><label for=\"sk-estimator-id-2\" class=\"sk-toggleable__label sk-toggleable__label-arrow\">estimator: LogisticRegression</label><div class=\"sk-toggleable__content\"><pre>LogisticRegression(random_state=123)</pre></div></div></div><div class=\"sk-serial\"><div class=\"sk-item\"><div class=\"sk-estimator sk-toggleable\"><input class=\"sk-toggleable__control sk-hidden--visually\" id=\"sk-estimator-id-3\" type=\"checkbox\" ><label for=\"sk-estimator-id-3\" class=\"sk-toggleable__label sk-toggleable__label-arrow\">LogisticRegression</label><div class=\"sk-toggleable__content\"><pre>LogisticRegression(random_state=123)</pre></div></div></div></div></div></div></div></div></div></div>"
      ],
      "text/plain": [
       "GridSearchCV(cv=5, estimator=LogisticRegression(random_state=123), n_jobs=-1,\n",
       "             param_grid={'C': array([0.1, 0.2, 0.3, 0.4, 0.5, 0.6, 0.7, 0.8, 0.9, 1. , 1.1, 1.2, 1.3,\n",
       "       1.4, 1.5, 1.6, 1.7, 1.8, 1.9, 2. , 2.1, 2.2, 2.3, 2.4, 2.5, 2.6,\n",
       "       2.7, 2.8, 2.9, 3. , 3.1, 3.2, 3.3, 3.4, 3.5, 3.6, 3.7, 3.8, 3.9,\n",
       "       4. , 4.1, 4.2, 4.3, 4.4, 4.5, 4.6, 4.7, 4.8, 4.9, 5. ])},\n",
       "             scoring=make_scorer(accuracy_score))"
      ]
     },
     "execution_count": 7,
     "metadata": {},
     "output_type": "execute_result"
    }
   ],
   "source": [
    "X_train, X_test, y_train, y_test= train_test_split(X,y, test_size = 0.5)\n",
    "Z_1=preprocessing.StandardScaler()\n",
    "Z_1.fit(X_train)\n",
    "X_train_Z= Z_1.transform(X_train)\n",
    "X_test_Z= Z_1.transform(X_test)\n",
    "\n",
    "modelo = LogisticRegression(random_state=123)#C parametro de regularizacion el modelo y se optiene el beta con ese parametro, valor optimo de c para tener el mejor acuracy\n",
    "parametros ={'C': np.arange(0.1,5.1,0.1)}\n",
    "grilla1 = GridSearchCV(estimator=modelo,param_grid=parametros,cv=5,scoring=make_scorer(accuracy_score),n_jobs=-1)\n",
    "grilla1.fit(X_train_Z, y_train)"
   ]
  },
  {
   "cell_type": "code",
   "execution_count": 8,
   "id": "50c31818",
   "metadata": {},
   "outputs": [
    {
     "data": {
      "text/plain": [
       "{'C': 1.8000000000000003}"
      ]
     },
     "execution_count": 8,
     "metadata": {},
     "output_type": "execute_result"
    }
   ],
   "source": [
    "grilla1.best_params_"
   ]
  },
  {
   "cell_type": "code",
   "execution_count": 9,
   "id": "4d7b0e92",
   "metadata": {},
   "outputs": [],
   "source": [
    "y_hat_test= grilla1.predict(X_test_Z)"
   ]
  },
  {
   "cell_type": "markdown",
   "id": "f1b0326d",
   "metadata": {},
   "source": [
    "### Predecir train"
   ]
  },
  {
   "cell_type": "code",
   "execution_count": 10,
   "id": "cb3d32ae",
   "metadata": {},
   "outputs": [
    {
     "data": {
      "text/html": [
       "<style>#sk-container-id-2 {color: black;}#sk-container-id-2 pre{padding: 0;}#sk-container-id-2 div.sk-toggleable {background-color: white;}#sk-container-id-2 label.sk-toggleable__label {cursor: pointer;display: block;width: 100%;margin-bottom: 0;padding: 0.3em;box-sizing: border-box;text-align: center;}#sk-container-id-2 label.sk-toggleable__label-arrow:before {content: \"▸\";float: left;margin-right: 0.25em;color: #696969;}#sk-container-id-2 label.sk-toggleable__label-arrow:hover:before {color: black;}#sk-container-id-2 div.sk-estimator:hover label.sk-toggleable__label-arrow:before {color: black;}#sk-container-id-2 div.sk-toggleable__content {max-height: 0;max-width: 0;overflow: hidden;text-align: left;background-color: #f0f8ff;}#sk-container-id-2 div.sk-toggleable__content pre {margin: 0.2em;color: black;border-radius: 0.25em;background-color: #f0f8ff;}#sk-container-id-2 input.sk-toggleable__control:checked~div.sk-toggleable__content {max-height: 200px;max-width: 100%;overflow: auto;}#sk-container-id-2 input.sk-toggleable__control:checked~label.sk-toggleable__label-arrow:before {content: \"▾\";}#sk-container-id-2 div.sk-estimator input.sk-toggleable__control:checked~label.sk-toggleable__label {background-color: #d4ebff;}#sk-container-id-2 div.sk-label input.sk-toggleable__control:checked~label.sk-toggleable__label {background-color: #d4ebff;}#sk-container-id-2 input.sk-hidden--visually {border: 0;clip: rect(1px 1px 1px 1px);clip: rect(1px, 1px, 1px, 1px);height: 1px;margin: -1px;overflow: hidden;padding: 0;position: absolute;width: 1px;}#sk-container-id-2 div.sk-estimator {font-family: monospace;background-color: #f0f8ff;border: 1px dotted black;border-radius: 0.25em;box-sizing: border-box;margin-bottom: 0.5em;}#sk-container-id-2 div.sk-estimator:hover {background-color: #d4ebff;}#sk-container-id-2 div.sk-parallel-item::after {content: \"\";width: 100%;border-bottom: 1px solid gray;flex-grow: 1;}#sk-container-id-2 div.sk-label:hover label.sk-toggleable__label {background-color: #d4ebff;}#sk-container-id-2 div.sk-serial::before {content: \"\";position: absolute;border-left: 1px solid gray;box-sizing: border-box;top: 0;bottom: 0;left: 50%;z-index: 0;}#sk-container-id-2 div.sk-serial {display: flex;flex-direction: column;align-items: center;background-color: white;padding-right: 0.2em;padding-left: 0.2em;position: relative;}#sk-container-id-2 div.sk-item {position: relative;z-index: 1;}#sk-container-id-2 div.sk-parallel {display: flex;align-items: stretch;justify-content: center;background-color: white;position: relative;}#sk-container-id-2 div.sk-item::before, #sk-container-id-2 div.sk-parallel-item::before {content: \"\";position: absolute;border-left: 1px solid gray;box-sizing: border-box;top: 0;bottom: 0;left: 50%;z-index: -1;}#sk-container-id-2 div.sk-parallel-item {display: flex;flex-direction: column;z-index: 1;position: relative;background-color: white;}#sk-container-id-2 div.sk-parallel-item:first-child::after {align-self: flex-end;width: 50%;}#sk-container-id-2 div.sk-parallel-item:last-child::after {align-self: flex-start;width: 50%;}#sk-container-id-2 div.sk-parallel-item:only-child::after {width: 0;}#sk-container-id-2 div.sk-dashed-wrapped {border: 1px dashed gray;margin: 0 0.4em 0.5em 0.4em;box-sizing: border-box;padding-bottom: 0.4em;background-color: white;}#sk-container-id-2 div.sk-label label {font-family: monospace;font-weight: bold;display: inline-block;line-height: 1.2em;}#sk-container-id-2 div.sk-label-container {text-align: center;}#sk-container-id-2 div.sk-container {/* jupyter's `normalize.less` sets `[hidden] { display: none; }` but bootstrap.min.css set `[hidden] { display: none !important; }` so we also need the `!important` here to be able to override the default hidden behavior on the sphinx rendered scikit-learn.org. See: https://github.com/scikit-learn/scikit-learn/issues/21755 */display: inline-block !important;position: relative;}#sk-container-id-2 div.sk-text-repr-fallback {display: none;}</style><div id=\"sk-container-id-2\" class=\"sk-top-container\"><div class=\"sk-text-repr-fallback\"><pre>GridSearchCV(cv=5, estimator=LogisticRegression(random_state=123), n_jobs=-1,\n",
       "             param_grid={&#x27;C&#x27;: array([0.1, 0.2, 0.3, 0.4, 0.5, 0.6, 0.7, 0.8, 0.9, 1. , 1.1, 1.2, 1.3,\n",
       "       1.4, 1.5, 1.6, 1.7, 1.8, 1.9, 2. , 2.1, 2.2, 2.3, 2.4, 2.5, 2.6,\n",
       "       2.7, 2.8, 2.9, 3. , 3.1, 3.2, 3.3, 3.4, 3.5, 3.6, 3.7, 3.8, 3.9,\n",
       "       4. , 4.1, 4.2, 4.3, 4.4, 4.5, 4.6, 4.7, 4.8, 4.9, 5. ])},\n",
       "             scoring=make_scorer(accuracy_score))</pre><b>In a Jupyter environment, please rerun this cell to show the HTML representation or trust the notebook. <br />On GitHub, the HTML representation is unable to render, please try loading this page with nbviewer.org.</b></div><div class=\"sk-container\" hidden><div class=\"sk-item sk-dashed-wrapped\"><div class=\"sk-label-container\"><div class=\"sk-label sk-toggleable\"><input class=\"sk-toggleable__control sk-hidden--visually\" id=\"sk-estimator-id-4\" type=\"checkbox\" ><label for=\"sk-estimator-id-4\" class=\"sk-toggleable__label sk-toggleable__label-arrow\">GridSearchCV</label><div class=\"sk-toggleable__content\"><pre>GridSearchCV(cv=5, estimator=LogisticRegression(random_state=123), n_jobs=-1,\n",
       "             param_grid={&#x27;C&#x27;: array([0.1, 0.2, 0.3, 0.4, 0.5, 0.6, 0.7, 0.8, 0.9, 1. , 1.1, 1.2, 1.3,\n",
       "       1.4, 1.5, 1.6, 1.7, 1.8, 1.9, 2. , 2.1, 2.2, 2.3, 2.4, 2.5, 2.6,\n",
       "       2.7, 2.8, 2.9, 3. , 3.1, 3.2, 3.3, 3.4, 3.5, 3.6, 3.7, 3.8, 3.9,\n",
       "       4. , 4.1, 4.2, 4.3, 4.4, 4.5, 4.6, 4.7, 4.8, 4.9, 5. ])},\n",
       "             scoring=make_scorer(accuracy_score))</pre></div></div></div><div class=\"sk-parallel\"><div class=\"sk-parallel-item\"><div class=\"sk-item\"><div class=\"sk-label-container\"><div class=\"sk-label sk-toggleable\"><input class=\"sk-toggleable__control sk-hidden--visually\" id=\"sk-estimator-id-5\" type=\"checkbox\" ><label for=\"sk-estimator-id-5\" class=\"sk-toggleable__label sk-toggleable__label-arrow\">estimator: LogisticRegression</label><div class=\"sk-toggleable__content\"><pre>LogisticRegression(random_state=123)</pre></div></div></div><div class=\"sk-serial\"><div class=\"sk-item\"><div class=\"sk-estimator sk-toggleable\"><input class=\"sk-toggleable__control sk-hidden--visually\" id=\"sk-estimator-id-6\" type=\"checkbox\" ><label for=\"sk-estimator-id-6\" class=\"sk-toggleable__label sk-toggleable__label-arrow\">LogisticRegression</label><div class=\"sk-toggleable__content\"><pre>LogisticRegression(random_state=123)</pre></div></div></div></div></div></div></div></div></div></div>"
      ],
      "text/plain": [
       "GridSearchCV(cv=5, estimator=LogisticRegression(random_state=123), n_jobs=-1,\n",
       "             param_grid={'C': array([0.1, 0.2, 0.3, 0.4, 0.5, 0.6, 0.7, 0.8, 0.9, 1. , 1.1, 1.2, 1.3,\n",
       "       1.4, 1.5, 1.6, 1.7, 1.8, 1.9, 2. , 2.1, 2.2, 2.3, 2.4, 2.5, 2.6,\n",
       "       2.7, 2.8, 2.9, 3. , 3.1, 3.2, 3.3, 3.4, 3.5, 3.6, 3.7, 3.8, 3.9,\n",
       "       4. , 4.1, 4.2, 4.3, 4.4, 4.5, 4.6, 4.7, 4.8, 4.9, 5. ])},\n",
       "             scoring=make_scorer(accuracy_score))"
      ]
     },
     "execution_count": 10,
     "metadata": {},
     "output_type": "execute_result"
    }
   ],
   "source": [
    "Z_2= preprocessing.StandardScaler()\n",
    "Z_2.fit(X_test)\n",
    "X_train_Z= Z_2.transform(X_train)\n",
    "X_test_Z= Z_2.transform(X_test)\n",
    "\n",
    "modelo2 = LogisticRegression(random_state=123)#C parametro de regularizacion el modelo y se optiene el beta con ese parametro, valor optimo de c para tener el mejor acuracy\n",
    "parametros ={'C': np.arange(0.1,5.1,0.1)}\n",
    "grilla2 = GridSearchCV(estimator=modelo2,param_grid=parametros,cv=5,scoring=make_scorer(accuracy_score),n_jobs=-1)\n",
    "grilla2.fit(X_test_Z, y_test)"
   ]
  },
  {
   "cell_type": "code",
   "execution_count": 11,
   "id": "e71d5ce9",
   "metadata": {},
   "outputs": [
    {
     "data": {
      "text/plain": [
       "{'C': 3.8000000000000003}"
      ]
     },
     "execution_count": 11,
     "metadata": {},
     "output_type": "execute_result"
    }
   ],
   "source": [
    "grilla2.best_params_"
   ]
  },
  {
   "cell_type": "code",
   "execution_count": 12,
   "id": "f69b0c32",
   "metadata": {},
   "outputs": [],
   "source": [
    "y_hat_train= grilla2.predict(X_train_Z)"
   ]
  },
  {
   "cell_type": "code",
   "execution_count": 13,
   "id": "83946b42",
   "metadata": {},
   "outputs": [
    {
     "data": {
      "text/plain": [
       "True"
      ]
     },
     "execution_count": 13,
     "metadata": {},
     "output_type": "execute_result"
    }
   ],
   "source": [
    "u1 = accuracy_score(y_test, y_hat_test)\n",
    "u2 = accuracy_score(y_train, y_hat_train)\n",
    "np.abs(u1-u2)< 10"
   ]
  },
  {
   "cell_type": "code",
   "execution_count": 14,
   "id": "c0273b16",
   "metadata": {},
   "outputs": [
    {
     "data": {
      "text/plain": [
       "0.9666666666666667"
      ]
     },
     "execution_count": 14,
     "metadata": {},
     "output_type": "execute_result"
    }
   ],
   "source": [
    "u1 "
   ]
  },
  {
   "cell_type": "code",
   "execution_count": 15,
   "id": "2ff72c3f",
   "metadata": {},
   "outputs": [
    {
     "data": {
      "text/plain": [
       "0.9"
      ]
     },
     "execution_count": 15,
     "metadata": {},
     "output_type": "execute_result"
    }
   ],
   "source": [
    "u2"
   ]
  },
  {
   "cell_type": "code",
   "execution_count": 16,
   "id": "59dbb78f",
   "metadata": {},
   "outputs": [],
   "source": [
    "if np.abs(u1-u2)< 10: #modelo no esta sobrentrenado\n",
    "    modelo_completo= LogisticRegression(random_state=123)\n",
    "    grilla_completo = GridSearchCV(estimator=modelo_completo,param_grid=parametros,cv=5,scoring=make_scorer(accuracy_score),n_jobs=-1)\n",
    "    Z= preprocessing.StandardScaler()\n",
    "    Z.fit(X)\n",
    "    X_z= Z.transform(X)\n",
    "    grilla_completo.fit(X_z,y)\n",
    "else: #sino cumple, no optimice \n",
    "    grilla_completo = LogisticRegression(random_state=123)\n",
    "    Z= preprocessing.StandardScaler()\n",
    "    Z.fit(X)\n",
    "    X_z= Z.transform(X)\n",
    "    grilla_completo.fit(X_z,y)"
   ]
  },
  {
   "cell_type": "markdown",
   "id": "eedb6dae",
   "metadata": {},
   "source": [
    "### Predicciones"
   ]
  },
  {
   "cell_type": "code",
   "execution_count": 17,
   "id": "a1d50869",
   "metadata": {},
   "outputs": [],
   "source": [
    "X_nuevo_Z= Z.transform(X_nuevo)\n",
    "y_hat_nuevo = grilla_completo.predict(X_nuevo_Z)"
   ]
  },
  {
   "cell_type": "markdown",
   "id": "d8d07f7a",
   "metadata": {},
   "source": [
    "### Evaluación modelo"
   ]
  },
  {
   "cell_type": "code",
   "execution_count": 18,
   "id": "adbb1445",
   "metadata": {},
   "outputs": [
    {
     "data": {
      "text/plain": [
       "1.0"
      ]
     },
     "execution_count": 18,
     "metadata": {},
     "output_type": "execute_result"
    }
   ],
   "source": [
    "accuracy_score(y_nuevo,y_hat_nuevo )"
   ]
  },
  {
   "cell_type": "markdown",
   "id": "7851e903",
   "metadata": {},
   "source": [
    "## 2.Pipeline"
   ]
  },
  {
   "cell_type": "code",
   "execution_count": 19,
   "id": "21a4b3ee",
   "metadata": {},
   "outputs": [],
   "source": [
    "def load_data():\n",
    "    covariables = [x for x in dataset.columns if x not in [\"y\"] ]\n",
    "    X= dataset.get(covariables)\n",
    "    y = dataset[\"y\"]\n",
    "\n",
    "    X_nuevo = prueba.get(covariables)\n",
    "    y_nuevo = prueba[\"y\"]\n",
    "    \n",
    "    return X, y, X_nuevo, y_nuevo \n"
   ]
  },
  {
   "cell_type": "code",
   "execution_count": 20,
   "id": "2491cca4",
   "metadata": {},
   "outputs": [],
   "source": [
    "def preprocessing_Z(X):\n",
    "    Z= preprocessing.StandardScaler()\n",
    "    Z.fit(X)\n",
    "    X_z= Z.transform(X)\n",
    "    return Z, X_z"
   ]
  },
  {
   "cell_type": "code",
   "execution_count": 21,
   "id": "88a64833",
   "metadata": {},
   "outputs": [],
   "source": [
    "def training_model(X,y):\n",
    "    X_train, X_test, y_train, y_test= train_test_split(X,y, test_size = 0.5)\n",
    "    #MODELO 1\n",
    "    Z_1,X_train_Z= preprocessing_Z(X_train)\n",
    "    X_test_Z= Z_1.transform(X_test)\n",
    "\n",
    "    modelo1 = LogisticRegression(random_state=123)#C parametro de regularizacion el modelo y se optiene el beta con ese parametro, valor optimo de c para tener el mejor acuracy\n",
    "    parametros ={'C': np.arange(0.1,5.1,0.1)}\n",
    "    grilla1 = GridSearchCV(estimator=modelo1,param_grid=parametros,cv=5,scoring=make_scorer(accuracy_score),n_jobs=-1)\n",
    "    grilla1.fit(X_train_Z, y_train)\n",
    "    y_hat_test= grilla1.predict(X_test_Z)\n",
    "    \n",
    "    #MODELO 2\n",
    "    Z_2,X_test_Z= preprocessing_Z(X_test)\n",
    "    X_train_Z= Z_2.transform(X_train)\n",
    "\n",
    "    modelo2 = LogisticRegression(random_state=123)#C parametro de regularizacion el modelo y se optiene el beta con ese parametro, valor optimo de c para tener el mejor acuracy\n",
    "    grilla2 = GridSearchCV(estimator=modelo2,param_grid=parametros,cv=5,scoring=make_scorer(accuracy_score),n_jobs=-1)\n",
    "    grilla2.fit(X_test_Z, y_test)\n",
    "    y_hat_train= grilla2.predict(X_train_Z)\n",
    "    \n",
    "    u1 = accuracy_score(y_test, y_hat_test)\n",
    "    u2 = accuracy_score(y_train, y_hat_train)\n",
    "    \n",
    "    if np.abs(u1-u2)< 10: #modelo no esta sobrentrenado\n",
    "        modelo_completo= LogisticRegression(random_state=123)\n",
    "        grilla_completo = GridSearchCV(estimator=modelo_completo,param_grid=parametros,cv=5,scoring=make_scorer(accuracy_score),n_jobs=-1)\n",
    "        Z= preprocessing.StandardScaler()\n",
    "        Z.fit(X)\n",
    "        X_z= Z.transform(X)\n",
    "        grilla_completo.fit(X_z,y)\n",
    "    else: #sino cumple, no optimice \n",
    "        grilla_completo = LogisticRegression(random_state=123)\n",
    "        Z= preprocessing.StandardScaler()\n",
    "        Z.fit(X)\n",
    "        X_z= Z.transform(X)\n",
    "        grilla_completo.fit(X_z,y)\n",
    "    #Predicciones   \n",
    "    X_nuevo_Z= Z.transform(X_nuevo)\n",
    "    y_hat_nuevo = grilla_completo.predict(X_nuevo_Z)\n",
    "    #Evaluación modelo\n",
    "    metrica= accuracy_score(y_nuevo,y_hat_nuevo)\n",
    "    \n",
    "    return metrica"
   ]
  },
  {
   "cell_type": "code",
   "execution_count": 22,
   "id": "2f712b6c",
   "metadata": {},
   "outputs": [],
   "source": [
    "def ML_system_regression():\n",
    "    try: #\n",
    "        X, y, X_nuevo, y_nuevo  = load_data()\n",
    "        metric = training_model(X,y)\n",
    "        return {'success':True, 'accuracy':metric }\n",
    "    except Exception as e:\n",
    "        return {'succes':False, 'message':str(e)}"
   ]
  },
  {
   "cell_type": "code",
   "execution_count": 26,
   "id": "6cc2ae97",
   "metadata": {},
   "outputs": [],
   "source": [
    "resultado = ML_system_regression()"
   ]
  },
  {
   "cell_type": "code",
   "execution_count": 27,
   "id": "74f52105",
   "metadata": {},
   "outputs": [
    {
     "data": {
      "text/plain": [
       "True"
      ]
     },
     "execution_count": 27,
     "metadata": {},
     "output_type": "execute_result"
    }
   ],
   "source": [
    "resultado[\"success\"]"
   ]
  },
  {
   "cell_type": "code",
   "execution_count": 28,
   "id": "4a835039",
   "metadata": {},
   "outputs": [
    {
     "data": {
      "text/plain": [
       "1.0"
      ]
     },
     "execution_count": 28,
     "metadata": {},
     "output_type": "execute_result"
    }
   ],
   "source": [
    "resultado[\"accuracy\"]"
   ]
  }
 ],
 "metadata": {
  "kernelspec": {
   "display_name": "Python 3 (ipykernel)",
   "language": "python",
   "name": "python3"
  },
  "language_info": {
   "codemirror_mode": {
    "name": "ipython",
    "version": 3
   },
   "file_extension": ".py",
   "mimetype": "text/x-python",
   "name": "python",
   "nbconvert_exporter": "python",
   "pygments_lexer": "ipython3",
   "version": "3.11.4"
  }
 },
 "nbformat": 4,
 "nbformat_minor": 5
}
